{
 "cells": [
  {
   "cell_type": "code",
   "execution_count": 1,
   "id": "c4b155a2-6b6e-4fdf-8b2e-947bc896e8e5",
   "metadata": {},
   "outputs": [],
   "source": [
    "import cv2 as cv\n",
    "import numpy as np"
   ]
  },
  {
   "cell_type": "code",
   "execution_count": 2,
   "id": "c2fb5fb0",
   "metadata": {},
   "outputs": [],
   "source": [
    "img = cv.imread('./cb_grids/images/grids_5by4/02.jpg')\n",
    "img = cv.resize(img, (0,0), fx = 0.24, fy = 0.24)\n",
    "gray = cv.cvtColor(img, cv.COLOR_BGR2GRAY)\n",
    "#gray = cv.medianBlur(gray, 1)\n",
    "\n",
    "# # Color-segmentation to get binary mask\n",
    "#     lwr = np.array([0, 0, 143])\n",
    "#     upr = np.array([179, 61, 252])\n",
    "#     hsv = cv2.cvtColor(img, cv2.COLOR_BGR2HSV)\n",
    "#     msk = cv2.inRange(hsv, lwr, upr)\n",
    "\n",
    "#     # Extract chess-board\n",
    "#     krn = cv2.getStructuringElement(cv2.MORPH_RECT, (50, 30))\n",
    "#     dlt = cv2.dilate(msk, krn, iterations=5)\n",
    "#     res = 255 - cv2.bitwise_and(dlt, msk)\n",
    "\n",
    "#     # Displaying chess-board features\n",
    "#     res = np.uint8(res)\n",
    "\n",
    "#Hough Circle Detection\n",
    "rows = gray.shape[0]\n",
    "circles = cv.HoughCircles(gray, cv.HOUGH_GRADIENT, 1, rows / 16, param1=300, param2=9, minRadius=7, maxRadius=10)\n",
    "\n",
    "#Drawing the detected circles on the original images\n",
    "if circles is not None:\n",
    "    circles = np.uint16(np.around(circles))\n",
    "    for i in circles[0, :]:\n",
    "        center = (i[0], i[1])\n",
    "        # circle center\n",
    "        cv.circle(img, center, 1, (0, 100, 100), 3)\n",
    "        # circle outline\n",
    "        radius = i[2]\n",
    "        cv.circle(img, center, radius, (255, 0, 255), 3)\n",
    "\n",
    "# cv.imshow('Frame2',img2)"
   ]
  },
  {
   "cell_type": "code",
   "execution_count": 10,
   "id": "742cf0ea",
   "metadata": {},
   "outputs": [],
   "source": [
    "imcount = 0 #To keep count of the number of successfully saved frames, and to number saved the image files\n",
    "\n",
    "for i in circles[0, :]:\n",
    "    center1 = (i[0], i[1])\n",
    "    for j in circles[0, :]:\n",
    "        center2 = (j[0], j[1])\n",
    "        x = center1[0]\n",
    "        w = int(center2[0]) - int(center1[0])\n",
    "        y = center1[1]\n",
    "        h = int(center2[1]) - int(center1[1])\n",
    "        if w<210 and w>134 and h<210 and h>134:\n",
    "#             print(x)\n",
    "#             print(y)\n",
    "#             print(\" \")\n",
    "#             print(True)\n",
    "#             crop_image = img2[int(x):int(x+w), int(y):int(y+h)]\n",
    "            imcount = imcount+1\n",
    "            crop_image = img[center1[1]:center2[1], center1[0]:center2[0]]\n",
    "# crop_image = img2[100:200, 0:100]\n",
    "            cv.imwrite(\"./cropped_images/crop\"+str(imcount)+\".png\", crop_image)"
   ]
  },
  {
   "cell_type": "code",
   "execution_count": 4,
   "id": "dc590b4e",
   "metadata": {},
   "outputs": [],
   "source": [
    "# cv.imshow('Frame1',img1)\n",
    "cv.imshow('Frame2',img)\n",
    "# cv.imshow('Frame3',img3)\n",
    "cv.waitKey(0)\n",
    "cv.destroyAllWindows()"
   ]
  },
  {
   "cell_type": "code",
   "execution_count": null,
   "id": "4b9867e3",
   "metadata": {},
   "outputs": [],
   "source": []
  }
 ],
 "metadata": {
  "kernelspec": {
   "display_name": "Python 3 (ipykernel)",
   "language": "python",
   "name": "python3"
  },
  "language_info": {
   "codemirror_mode": {
    "name": "ipython",
    "version": 3
   },
   "file_extension": ".py",
   "mimetype": "text/x-python",
   "name": "python",
   "nbconvert_exporter": "python",
   "pygments_lexer": "ipython3",
   "version": "3.9.12"
  }
 },
 "nbformat": 4,
 "nbformat_minor": 5
}
