{
 "cells": [
  {
   "cell_type": "code",
   "execution_count": 1,
   "id": "c4b155a2-6b6e-4fdf-8b2e-947bc896e8e5",
   "metadata": {},
   "outputs": [],
   "source": [
    "import cv2 as cv\n",
    "import numpy as np"
   ]
  },
  {
   "cell_type": "code",
   "execution_count": 9,
   "id": "679c1533-b840-4b1e-bbdb-b17034ce9ebd",
   "metadata": {},
   "outputs": [],
   "source": [
    "# img1 = cv.imread('C:/Users/prash/Documents/checkerboard/01.jpg')\n",
    "# img1 = cv.resize(img1, (0,0), fx = 0.16, fy = 0.16)\n",
    "# gray = cv.cvtColor(img1, cv.COLOR_BGR2GRAY)\n",
    "# #gray = cv.medianBlur(gray, 1)\n",
    "\n",
    "# #Hough Circle Detection\n",
    "# rows = gray.shape[0]\n",
    "# circles = cv.HoughCircles(gray, cv.HOUGH_GRADIENT, 1, rows / 16, param1=200, param2=16, minRadius=6, maxRadius=17)\n",
    "\n",
    "# #Drawing the detected circles on the original images\n",
    "# if circles is not None:\n",
    "#     circles = np.uint16(np.around(circles))\n",
    "#     for i in circles[0, :]:\n",
    "#         center = (i[0], i[1])\n",
    "#         # circle center\n",
    "#         cv.circle(img1, center, 1, (0, 100, 100), 3)\n",
    "#         # circle outline\n",
    "#         radius = i[2]\n",
    "#         cv.circle(img1, center, radius, (255, 0, 255), 3)"
   ]
  },
  {
   "cell_type": "code",
   "execution_count": 2,
   "id": "c2fb5fb0",
   "metadata": {},
   "outputs": [
    {
     "ename": "error",
     "evalue": "OpenCV(4.6.0) D:\\a\\opencv-python\\opencv-python\\opencv\\modules\\imgproc\\src\\resize.cpp:4052: error: (-215:Assertion failed) !ssize.empty() in function 'cv::resize'\n",
     "output_type": "error",
     "traceback": [
      "\u001b[1;31m---------------------------------------------------------------------------\u001b[0m",
      "\u001b[1;31merror\u001b[0m                                     Traceback (most recent call last)",
      "Input \u001b[1;32mIn [2]\u001b[0m, in \u001b[0;36m<cell line: 2>\u001b[1;34m()\u001b[0m\n\u001b[0;32m      1\u001b[0m img2 \u001b[38;5;241m=\u001b[39m cv\u001b[38;5;241m.\u001b[39mimread(\u001b[38;5;124m'\u001b[39m\u001b[38;5;124m./03.jpg\u001b[39m\u001b[38;5;124m'\u001b[39m)\n\u001b[1;32m----> 2\u001b[0m img2 \u001b[38;5;241m=\u001b[39m \u001b[43mcv\u001b[49m\u001b[38;5;241;43m.\u001b[39;49m\u001b[43mresize\u001b[49m\u001b[43m(\u001b[49m\u001b[43mimg2\u001b[49m\u001b[43m,\u001b[49m\u001b[43m \u001b[49m\u001b[43m(\u001b[49m\u001b[38;5;241;43m0\u001b[39;49m\u001b[43m,\u001b[49m\u001b[38;5;241;43m0\u001b[39;49m\u001b[43m)\u001b[49m\u001b[43m,\u001b[49m\u001b[43m \u001b[49m\u001b[43mfx\u001b[49m\u001b[43m \u001b[49m\u001b[38;5;241;43m=\u001b[39;49m\u001b[43m \u001b[49m\u001b[38;5;241;43m0.16\u001b[39;49m\u001b[43m,\u001b[49m\u001b[43m \u001b[49m\u001b[43mfy\u001b[49m\u001b[43m \u001b[49m\u001b[38;5;241;43m=\u001b[39;49m\u001b[43m \u001b[49m\u001b[38;5;241;43m0.16\u001b[39;49m\u001b[43m)\u001b[49m\n\u001b[0;32m      3\u001b[0m gray2 \u001b[38;5;241m=\u001b[39m cv\u001b[38;5;241m.\u001b[39mcvtColor(img2, cv\u001b[38;5;241m.\u001b[39mCOLOR_BGR2GRAY)\n\u001b[0;32m      4\u001b[0m \u001b[38;5;66;03m#gray = cv.medianBlur(gray, 1)\u001b[39;00m\n\u001b[0;32m      5\u001b[0m \n\u001b[0;32m      6\u001b[0m \u001b[38;5;66;03m#Hough Circle Detection\u001b[39;00m\n",
      "\u001b[1;31merror\u001b[0m: OpenCV(4.6.0) D:\\a\\opencv-python\\opencv-python\\opencv\\modules\\imgproc\\src\\resize.cpp:4052: error: (-215:Assertion failed) !ssize.empty() in function 'cv::resize'\n"
     ]
    }
   ],
   "source": [
    "img2 = cv.imread('./03.jpg')\n",
    "img2 = cv.resize(img2, (0,0), fx = 0.16, fy = 0.16)\n",
    "gray2 = cv.cvtColor(img2, cv.COLOR_BGR2GRAY)\n",
    "#gray = cv.medianBlur(gray, 1)\n",
    "\n",
    "#Hough Circle Detection\n",
    "rows = gray2.shape[0]\n",
    "circles = cv.HoughCircles(gray2, cv.HOUGH_GRADIENT, 1, rows / 16, param1=250, param2=12, minRadius=4, maxRadius=9)\n",
    "\n",
    "#Drawing the detected circles on the original images\n",
    "if circles is not None:\n",
    "    circles = np.uint16(np.around(circles))\n",
    "    for i in circles[0, :]:\n",
    "        center = (i[0], i[1])\n",
    "        # circle center\n",
    "        cv.circle(img2, center, 1, (0, 100, 100), 3)\n",
    "        # circle outline\n",
    "        radius = i[2]\n",
    "#         cv.circle(img2, center, radius, (255, 0, 255), 3)\n",
    "\n",
    "# cv.imshow('Frame2',img2)"
   ]
  },
  {
   "cell_type": "code",
   "execution_count": null,
   "id": "742cf0ea",
   "metadata": {},
   "outputs": [],
   "source": [
    "imcount = 0 #To keep count of the number of successfully saved frames, and to number saved the image files\n",
    "\n",
    "for i in circles[0, :]:\n",
    "    center1 = (i[0], i[1])\n",
    "    for j in circles[0, :]:\n",
    "        center2 = (j[0], j[1])\n",
    "        x = center1[0]\n",
    "        w = int(center2[0]) - int(center1[0])\n",
    "        y = center1[1]\n",
    "        h = int(center2[1]) - int(center1[1])\n",
    "        if w<150 and w>20 and h<150 and h>20:\n",
    "#             print(x)\n",
    "#             print(y)\n",
    "#             print(\" \")\n",
    "#             print(True)\n",
    "#             crop_image = img2[int(x):int(x+w), int(y):int(y+h)]\n",
    "            imcount++\n",
    "            crop_image = img2[center1[1]:center2[1], center1[0]:center2[0]]\n",
    "# crop_image = img2[100:200, 0:100]\n",
    "            cv.imwrite(\"./cropped_images/crop\"+str(imcount)+\".png\", crop_image)"
   ]
  },
  {
   "cell_type": "code",
   "execution_count": 12,
   "id": "5ed6f127",
   "metadata": {},
   "outputs": [],
   "source": [
    "# img3 = cv.imread('C:/Users/prash/Documents/checkerboard/04.jpg')\n",
    "# img3 = cv.resize(img3, (0,0), fx = 0.16, fy = 0.16)\n",
    "# gray3 = cv.cvtColor(img3, cv.COLOR_BGR2GRAY)\n",
    "# #gray = cv.medianBlur(gray, 1)\n",
    "\n",
    "# #Hough Circle Detection\n",
    "# rows = gray3.shape[0]\n",
    "# circles = cv.HoughCircles(gray3, cv.HOUGH_GRADIENT, 1, rows / 16, param1=200, param2=11, minRadius=4, maxRadius=9)\n",
    "\n",
    "# #Drawing the detected circles on the original images\n",
    "# if circles is not None:\n",
    "#     circles = np.uint16(np.around(circles))\n",
    "#     for i in circles[0, :]:\n",
    "#         center = (i[0], i[1])\n",
    "#         # circle center\n",
    "#         cv.circle(img3, center, 1, (0, 100, 100), 3)\n",
    "#         # circle outline\n",
    "#         radius = i[2]\n",
    "#         cv.circle(img3, center, radius, (255, 0, 255), 3)"
   ]
  },
  {
   "cell_type": "code",
   "execution_count": 3,
   "id": "dc590b4e",
   "metadata": {},
   "outputs": [
    {
     "ename": "error",
     "evalue": "OpenCV(4.6.0) D:\\a\\opencv-python\\opencv-python\\opencv\\modules\\highgui\\src\\window.cpp:967: error: (-215:Assertion failed) size.width>0 && size.height>0 in function 'cv::imshow'\n",
     "output_type": "error",
     "traceback": [
      "\u001b[1;31m---------------------------------------------------------------------------\u001b[0m",
      "\u001b[1;31merror\u001b[0m                                     Traceback (most recent call last)",
      "Input \u001b[1;32mIn [3]\u001b[0m, in \u001b[0;36m<cell line: 2>\u001b[1;34m()\u001b[0m\n\u001b[0;32m      1\u001b[0m \u001b[38;5;66;03m# cv.imshow('Frame1',img1)\u001b[39;00m\n\u001b[1;32m----> 2\u001b[0m \u001b[43mcv\u001b[49m\u001b[38;5;241;43m.\u001b[39;49m\u001b[43mimshow\u001b[49m\u001b[43m(\u001b[49m\u001b[38;5;124;43m'\u001b[39;49m\u001b[38;5;124;43mFrame2\u001b[39;49m\u001b[38;5;124;43m'\u001b[39;49m\u001b[43m,\u001b[49m\u001b[43mimg2\u001b[49m\u001b[43m)\u001b[49m\n\u001b[0;32m      3\u001b[0m \u001b[38;5;66;03m# cv.imshow('Frame3',img3)\u001b[39;00m\n\u001b[0;32m      4\u001b[0m cv\u001b[38;5;241m.\u001b[39mwaitKey(\u001b[38;5;241m0\u001b[39m)\n",
      "\u001b[1;31merror\u001b[0m: OpenCV(4.6.0) D:\\a\\opencv-python\\opencv-python\\opencv\\modules\\highgui\\src\\window.cpp:967: error: (-215:Assertion failed) size.width>0 && size.height>0 in function 'cv::imshow'\n"
     ]
    }
   ],
   "source": [
    "# cv.imshow('Frame1',img1)\n",
    "cv.imshow('Frame2',img2)\n",
    "# cv.imshow('Frame3',img3)\n",
    "cv.waitKey(0)\n",
    "cv.destroyAllWindows()"
   ]
  },
  {
   "cell_type": "code",
   "execution_count": null,
   "id": "a3545a5d",
   "metadata": {},
   "outputs": [],
   "source": []
  },
  {
   "cell_type": "code",
   "execution_count": null,
   "id": "aee9f34e",
   "metadata": {},
   "outputs": [],
   "source": []
  },
  {
   "cell_type": "code",
   "execution_count": null,
   "id": "0fd2ec82",
   "metadata": {},
   "outputs": [],
   "source": []
  },
  {
   "cell_type": "code",
   "execution_count": null,
   "id": "2b0464d1",
   "metadata": {},
   "outputs": [],
   "source": []
  }
 ],
 "metadata": {
  "kernelspec": {
   "display_name": "Python 3 (ipykernel)",
   "language": "python",
   "name": "python3"
  },
  "language_info": {
   "codemirror_mode": {
    "name": "ipython",
    "version": 3
   },
   "file_extension": ".py",
   "mimetype": "text/x-python",
   "name": "python",
   "nbconvert_exporter": "python",
   "pygments_lexer": "ipython3",
   "version": "3.9.12"
  }
 },
 "nbformat": 4,
 "nbformat_minor": 5
}
