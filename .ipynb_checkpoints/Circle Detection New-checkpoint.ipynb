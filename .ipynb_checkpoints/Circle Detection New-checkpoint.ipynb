{
 "cells": [
  {
   "cell_type": "code",
   "execution_count": 31,
   "id": "00d97c07",
   "metadata": {},
   "outputs": [],
   "source": [
    "import cv2 as cv\n",
    "import numpy as np"
   ]
  },
  {
   "cell_type": "code",
   "execution_count": 150,
   "id": "f75c5870",
   "metadata": {},
   "outputs": [],
   "source": [
    "img = cv.imread('./circles/Left_10.png')\n",
    "# img = cv.resize(img, (0,0), fx = 0.24, fy = 0.24)\n",
    "gray = cv.cvtColor(img, cv.COLOR_BGR2GRAY)\n",
    "#gray = cv.medianBlur(gray, 1)\n",
    "\n",
    "#####################################################################################\n",
    "# # apply close morphology\n",
    "# kernel = cv.getStructuringElement(cv.MORPH_ELLIPSE, (5,5))\n",
    "# morph = cv.morphologyEx(gray, cv.MORPH_CLOSE, kernel, iterations=3)\n",
    "\n",
    "# # threshold to binary\n",
    "# thresh = cv.threshold(morph,128,255,cv.THRESH_BINARY)[1]\n",
    "\n",
    "#####################################################################################\n",
    "\n",
    "# # Color-segmentation to get binary mask\n",
    "# lwr = np.array([0, 0, 143])\n",
    "# upr = np.array([179, 61, 252])\n",
    "# hsv = cv.cvtColor(img, cv.COLOR_BGR2HSV)\n",
    "# msk = cv.inRange(hsv, lwr, upr)\n",
    "\n",
    "# # Extract chess-board\n",
    "# krn = cv.getStructuringElement(cv.MORPH_RECT, (50, 30))\n",
    "# dlt = cv.dilate(msk, krn, iterations=5)\n",
    "# res = 255 - cv.bitwise_and(dlt, msk)\n",
    "\n",
    "# # Displaying chess-board features\n",
    "# res = np.uint8(res)\n",
    "\n",
    "#####################################################################################\n",
    "\n",
    "ret, thresh = cv.threshold(gray, 110, 255, cv.THRESH_BINARY)\n",
    "blur = cv.blur(thresh,(5,5))\n",
    "\n",
    "#####################################################################################\n",
    "\n",
    "#Hough Circle Detection\n",
    "rows = gray.shape[0]\n",
    "circles = cv.HoughCircles(blur, cv.HOUGH_GRADIENT, 1., rows / 32, param1=11, param2=14, minRadius=5, maxRadius=10)\n",
    "\n",
    "#Drawing the detected circles on the original images\n",
    "if circles is not None:\n",
    "    circles = np.uint16(np.around(circles))\n",
    "    for i in circles[0, :]:\n",
    "        center = (i[0], i[1])\n",
    "        # circle center\n",
    "        cv.circle(img, center, 1, (0, 100, 100), 3)\n",
    "        # circle outline\n",
    "        radius = i[2]\n",
    "        cv.circle(img, center, radius, (255, 0, 255), 3)\n",
    "\n",
    "# cv.imshow('Frame2',img2)\n",
    "# img = cv.resize(img, (0,0), fx = 0.20, fy = 0.20)"
   ]
  },
  {
   "cell_type": "code",
   "execution_count": 151,
   "id": "7dc30e06",
   "metadata": {},
   "outputs": [],
   "source": [
    "cv.imshow('Frame1',img)\n",
    "cv.imshow('Frame2',thresh)\n",
    "# cv.imwrite(\"./circlesdetected.png\", img)\n",
    "# cv.imshow('Frame3',img3)\n",
    "cv.waitKey(0)\n",
    "cv.destroyAllWindows()"
   ]
  },
  {
   "cell_type": "code",
   "execution_count": null,
   "id": "26a0f6b8",
   "metadata": {},
   "outputs": [],
   "source": []
  }
 ],
 "metadata": {
  "kernelspec": {
   "display_name": "Python 3",
   "language": "python",
   "name": "python3"
  },
  "language_info": {
   "codemirror_mode": {
    "name": "ipython",
    "version": 3
   },
   "file_extension": ".py",
   "mimetype": "text/x-python",
   "name": "python",
   "nbconvert_exporter": "python",
   "pygments_lexer": "ipython3",
   "version": "3.6.5"
  }
 },
 "nbformat": 4,
 "nbformat_minor": 5
}
