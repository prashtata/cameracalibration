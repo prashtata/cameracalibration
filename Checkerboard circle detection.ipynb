{
 "cells": [
  {
   "cell_type": "code",
   "execution_count": 4,
   "id": "c4b155a2-6b6e-4fdf-8b2e-947bc896e8e5",
   "metadata": {},
   "outputs": [],
   "source": [
    "import cv2 as cv\n",
    "import numpy as np"
   ]
  },
  {
   "cell_type": "code",
   "execution_count": 5,
   "id": "679c1533-b840-4b1e-bbdb-b17034ce9ebd",
   "metadata": {},
   "outputs": [],
   "source": [
    "# img1 = cv.imread('C:/Users/prash/Documents/checkerboard/01.jpg')\n",
    "# img1 = cv.resize(img1, (0,0), fx = 0.16, fy = 0.16)\n",
    "# gray = cv.cvtColor(img1, cv.COLOR_BGR2GRAY)\n",
    "# #gray = cv.medianBlur(gray, 1)\n",
    "\n",
    "# #Hough Circle Detection\n",
    "# rows = gray.shape[0]\n",
    "# circles = cv.HoughCircles(gray, cv.HOUGH_GRADIENT, 1, rows / 16, param1=200, param2=16, minRadius=6, maxRadius=17)\n",
    "\n",
    "# #Drawing the detected circles on the original images\n",
    "# if circles is not None:\n",
    "#     circles = np.uint16(np.around(circles))\n",
    "#     for i in circles[0, :]:\n",
    "#         center = (i[0], i[1])\n",
    "#         # circle center\n",
    "#         cv.circle(img1, center, 1, (0, 100, 100), 3)\n",
    "#         # circle outline\n",
    "#         radius = i[2]\n",
    "#         cv.circle(img1, center, radius, (255, 0, 255), 3)"
   ]
  },
  {
   "cell_type": "code",
   "execution_count": 7,
   "id": "c2fb5fb0",
   "metadata": {},
   "outputs": [],
   "source": [
    "img2 = cv.imread('./cb_grids/03.jpg')\n",
    "img2 = cv.resize(img2, (0,0), fx = 0.16, fy = 0.16)\n",
    "gray2 = cv.cvtColor(img2, cv.COLOR_BGR2GRAY)\n",
    "#gray = cv.medianBlur(gray, 1)\n",
    "\n",
    "#Hough Circle Detection\n",
    "rows = gray2.shape[0]\n",
    "circles = cv.HoughCircles(gray2, cv.HOUGH_GRADIENT, 1, rows / 16, param1=250, param2=12, minRadius=4, maxRadius=9)\n",
    "\n",
    "#Drawing the detected circles on the original images\n",
    "if circles is not None:\n",
    "    circles = np.uint16(np.around(circles))\n",
    "    for i in circles[0, :]:\n",
    "        center = (i[0], i[1])\n",
    "        # circle center\n",
    "        cv.circle(img2, center, 1, (0, 100, 100), 3)\n",
    "        # circle outline\n",
    "        radius = i[2]\n",
    "#         cv.circle(img2, center, radius, (255, 0, 255), 3)\n",
    "\n",
    "# cv.imshow('Frame2',img2)"
   ]
  },
  {
   "cell_type": "code",
   "execution_count": 9,
   "id": "742cf0ea",
   "metadata": {},
   "outputs": [],
   "source": [
    "imcount = 0 #To keep count of the number of successfully saved frames, and to number saved the image files\n",
    "\n",
    "for i in circles[0, :]:\n",
    "    center1 = (i[0], i[1])\n",
    "    for j in circles[0, :]:\n",
    "        center2 = (j[0], j[1])\n",
    "        x = center1[0]\n",
    "        w = int(center2[0]) - int(center1[0])\n",
    "        y = center1[1]\n",
    "        h = int(center2[1]) - int(center1[1])\n",
    "        if w<150 and w>20 and h<150 and h>20:\n",
    "#             print(x)\n",
    "#             print(y)\n",
    "#             print(\" \")\n",
    "#             print(True)\n",
    "#             crop_image = img2[int(x):int(x+w), int(y):int(y+h)]\n",
    "            imcount = imcount+1\n",
    "            crop_image = img2[center1[1]:center2[1], center1[0]:center2[0]]\n",
    "# crop_image = img2[100:200, 0:100]\n",
    "            cv.imwrite(\"./cropped_images/crop\"+str(imcount)+\".png\", crop_image)"
   ]
  },
  {
   "cell_type": "code",
   "execution_count": 12,
   "id": "5ed6f127",
   "metadata": {},
   "outputs": [],
   "source": [
    "# img3 = cv.imread('C:/Users/prash/Documents/checkerboard/04.jpg')\n",
    "# img3 = cv.resize(img3, (0,0), fx = 0.16, fy = 0.16)\n",
    "# gray3 = cv.cvtColor(img3, cv.COLOR_BGR2GRAY)\n",
    "# #gray = cv.medianBlur(gray, 1)\n",
    "\n",
    "# #Hough Circle Detection\n",
    "# rows = gray3.shape[0]\n",
    "# circles = cv.HoughCircles(gray3, cv.HOUGH_GRADIENT, 1, rows / 16, param1=200, param2=11, minRadius=4, maxRadius=9)\n",
    "\n",
    "# #Drawing the detected circles on the original images\n",
    "# if circles is not None:\n",
    "#     circles = np.uint16(np.around(circles))\n",
    "#     for i in circles[0, :]:\n",
    "#         center = (i[0], i[1])\n",
    "#         # circle center\n",
    "#         cv.circle(img3, center, 1, (0, 100, 100), 3)\n",
    "#         # circle outline\n",
    "#         radius = i[2]\n",
    "#         cv.circle(img3, center, radius, (255, 0, 255), 3)"
   ]
  },
  {
   "cell_type": "code",
   "execution_count": 10,
   "id": "dc590b4e",
   "metadata": {},
   "outputs": [],
   "source": [
    "# cv.imshow('Frame1',img1)\n",
    "cv.imshow('Frame2',img2)\n",
    "# cv.imshow('Frame3',img3)\n",
    "cv.waitKey(0)\n",
    "cv.destroyAllWindows()"
   ]
  },
  {
   "cell_type": "code",
   "execution_count": null,
   "id": "a3545a5d",
   "metadata": {},
   "outputs": [],
   "source": []
  },
  {
   "cell_type": "code",
   "execution_count": null,
   "id": "aee9f34e",
   "metadata": {},
   "outputs": [],
   "source": []
  },
  {
   "cell_type": "code",
   "execution_count": null,
   "id": "0fd2ec82",
   "metadata": {},
   "outputs": [],
   "source": []
  },
  {
   "cell_type": "code",
   "execution_count": null,
   "id": "2b0464d1",
   "metadata": {},
   "outputs": [],
   "source": []
  }
 ],
 "metadata": {
  "kernelspec": {
   "display_name": "Python 3 (ipykernel)",
   "language": "python",
   "name": "python3"
  },
  "language_info": {
   "codemirror_mode": {
    "name": "ipython",
    "version": 3
   },
   "file_extension": ".py",
   "mimetype": "text/x-python",
   "name": "python",
   "nbconvert_exporter": "python",
   "pygments_lexer": "ipython3",
   "version": "3.9.12"
  }
 },
 "nbformat": 4,
 "nbformat_minor": 5
}
