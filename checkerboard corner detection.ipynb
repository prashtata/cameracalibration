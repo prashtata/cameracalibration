{
 "cells": [
  {
   "cell_type": "code",
   "execution_count": 1,
   "id": "d90b2145-012e-418a-85c1-8be2da3b1536",
   "metadata": {},
   "outputs": [],
   "source": [
    "import cv2 as cv\n",
    "import numpy as np"
   ]
  },
  {
   "cell_type": "code",
   "execution_count": 2,
   "id": "f6f48d74-ad5f-417d-bf88-2d3f8fb495ee",
   "metadata": {},
   "outputs": [],
   "source": [
    "img1 = cv.imread('C:/Users/prash/Documents/cam0_1.png')\n",
    "img1 = cv.resize(img1, (0,0), fx = 0.75, fy = 0.75)\n",
    "gray = cv.cvtColor(img1, cv.COLOR_BGR2GRAY)"
   ]
  },
  {
   "cell_type": "code",
   "execution_count": 3,
   "id": "1d80725f",
   "metadata": {},
   "outputs": [],
   "source": [
    "corners = cv.goodFeaturesToTrack(gray, 100, 0.01, 100)\n",
    "corners = np.int0(corners)\n",
    "# corners = cv.cornerHarris(gray,22,23,0.04)\n",
    "# corners = np.float32(corners)\n",
    "\n",
    "for corner in corners:\n",
    "    x,y = corner.ravel()\n",
    "    cv.circle(img1, (x,y), 5, (255,0,0), -1)\n",
    "\n",
    "# corners = cv.dilate(corners,None)\n",
    "# img1[corners>0.01*corners.max()]=[0,0,255]"
   ]
  },
  {
   "cell_type": "code",
   "execution_count": 4,
   "id": "2f180994-5e45-4557-92a8-bc0dccd57d7b",
   "metadata": {},
   "outputs": [],
   "source": [
    "cv.imshow('Frame1',img1)\n",
    "cv.waitKey(0)\n",
    "cv.destroyAllWindows()"
   ]
  },
  {
   "cell_type": "code",
   "execution_count": null,
   "id": "fbf77f55",
   "metadata": {},
   "outputs": [],
   "source": []
  }
 ],
 "metadata": {
  "kernelspec": {
   "display_name": "Python 3 (ipykernel)",
   "language": "python",
   "name": "python3"
  },
  "language_info": {
   "codemirror_mode": {
    "name": "ipython",
    "version": 3
   },
   "file_extension": ".py",
   "mimetype": "text/x-python",
   "name": "python",
   "nbconvert_exporter": "python",
   "pygments_lexer": "ipython3",
   "version": "3.9.12"
  }
 },
 "nbformat": 4,
 "nbformat_minor": 5
}
